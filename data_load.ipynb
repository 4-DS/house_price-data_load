{
 "cells": [
  {
   "cell_type": "code",
   "execution_count": null,
   "id": "870a1090-f4ae-45a0-aa93-0960f5c6478d",
   "metadata": {
    "tags": []
   },
   "outputs": [],
   "source": [
    "%load_ext autoreload\n",
    "%autoreload 2"
   ]
  },
  {
   "cell_type": "code",
   "execution_count": null,
   "id": "453c78e8-6822-4123-bf9d-ed1ae9dd7bea",
   "metadata": {
    "tags": [
     "parameters"
    ]
   },
   "outputs": [],
   "source": [
    "# specify substep parameters for interactive run\n",
    "# this cell will be replaced during job run with the parameters from json within params subfolder\n",
    "substep_params={\n",
    "}"
   ]
  },
  {
   "cell_type": "code",
   "execution_count": null,
   "id": "927920fd-d2f1-4b5f-b7f1-bea242a09457",
   "metadata": {},
   "outputs": [],
   "source": [
    "# load pipeline and step parameters - do not edit\n",
    "from sinara.substep import get_pipeline_params, get_step_params\n",
    "pipeline_params = get_pipeline_params(pprint=True)\n",
    "step_params = get_step_params(pprint=True)"
   ]
  },
  {
   "cell_type": "code",
   "execution_count": null,
   "id": "f3818420-6085-43ea-b97e-578742794e1e",
   "metadata": {
    "tags": []
   },
   "outputs": [],
   "source": [
    "#3 define substep interface\n",
    "from sinara.substep import NotebookSubstep, ENV_NAME, PIPELINE_NAME, ZONE_NAME, STEP_NAME, RUN_ID, ENTITY_NAME, ENTITY_PATH, SUBSTEP_NAME\n",
    "\n",
    "substep = NotebookSubstep(pipeline_params, step_params, substep_params)\n",
    "\n",
    "substep.interface(\n",
    "    outputs = \n",
    "    [\n",
    "        { ENTITY_NAME: \"boston_dataset\" }\n",
    "    ]\n",
    ")\n",
    "\n",
    "substep.print_interface_info()\n",
    "\n",
    "substep.exit_in_visualize_mode()"
   ]
  },
  {
   "cell_type": "code",
   "execution_count": null,
   "id": "55e950c3-3151-4daf-9b98-83d3aebe216d",
   "metadata": {
    "tags": []
   },
   "outputs": [],
   "source": [
    "#4 run spark\n",
    "from sinara.spark import SinaraSpark\n",
    "\n",
    "spark = SinaraSpark.run_session(0)\n",
    "SinaraSpark.ui_url()"
   ]
  },
  {
   "cell_type": "markdown",
   "id": "9a8a998d-7b5a-49fc-b996-3e858250fc69",
   "metadata": {},
   "source": [
    "## Dataset description:\n",
    "The Boston house-price data of Harrison, D. and Rubinfeld, D.L. 'Hedonic prices and the demand for clean air', J. Environ. Economics & Management, vol.5, 81-102, 1978.   Used in Belsley, Kuh & Welsch, 'Regression diagnostics...', Wiley, 1980.   N.B. Various transformations are used in the table on pages 244-261 of the latter.<br>\n",
    "\n",
    "## Feature columns in order:\n",
    "**CRIM**: per capita crime rate by town<br>\n",
    "**ZN**: proportion of residential land zoned for lots over 25,000 sq.ft.<br>\n",
    "**INDUS**: proportion of non-retail business acres per town<br>\n",
    "**CHAS**: Charles River dummy variable (= 1 if tract bounds river; 0 otherwise)<br>\n",
    "**NOX**: nitric oxides concentration (parts per 10 million)<br>\n",
    "**RM**: average number of rooms per dwelling<br>\n",
    "**AGE**: proportion of owner-occupied units built prior to 1940<br>\n",
    "**DIS**: weighted distances to five Boston employment centres<br>\n",
    "**RAD**: index of accessibility to radial highways<br>\n",
    "**TAX**: full-value property-tax rate per \\$10,000<br>\n",
    "**PTRATIO**: pupil-teacher ratio by town<br>\n",
    "**B**: 1000(Bk - 0.63)^2 where Bk is the proportion of blacks by town<br>\n",
    "**LSTAT**: % lower status of the population<br>\n",
    "**MEDV**: Median value of owner-occupied homes in $1000's<br>\n",
    "\n",
    "## Dataset load process\n",
    "1. Download dataset from the internet storage"
   ]
  },
  {
   "cell_type": "code",
   "execution_count": null,
   "id": "70b2d9b3-051c-424c-beec-9da8f177b4ed",
   "metadata": {
    "tags": []
   },
   "outputs": [],
   "source": [
    "#5 load csv dataset into pandas dataframe\n",
    "\n",
    "import pandas as pd\n",
    "\n",
    "csv_url = \"https://83f122a2-fa55-45bb-aa0c-a0e660a792e1.selstorage.ru/BostonHousing.zip\"\n",
    "csv_feature_columns = ['CRIM', 'ZN', 'INDUS', 'CHAS', 'NOX', 'RM', 'AGE', 'DIS', 'RAD', 'TAX', 'PTRATIO', 'B', 'LSTAT', 'MEDV']\n",
    "boston_df = pd.read_csv(csv_url, sep=\",\", compression='zip')[csv_feature_columns]"
   ]
  },
  {
   "cell_type": "code",
   "execution_count": null,
   "id": "153fa50d-6d1f-497b-b944-9be34bffe36a",
   "metadata": {},
   "outputs": [],
   "source": [
    "#6 convert pandas dataframe to spark dataframe\n",
    "\n",
    "boston_df_spark = spark.createDataFrame(boston_df)"
   ]
  },
  {
   "cell_type": "code",
   "execution_count": null,
   "id": "47c68c69-46d1-48d0-a239-fac8bf36c6fa",
   "metadata": {
    "tags": []
   },
   "outputs": [],
   "source": [
    "#8 write outputs\n",
    "outputs = substep.outputs()\n",
    "\n",
    "boston_df_spark.write.parquet(outputs.boston_dataset, mode='overwrite')"
   ]
  },
  {
   "cell_type": "code",
   "execution_count": null,
   "id": "201ff276-6652-49a1-8938-ae5205999afc",
   "metadata": {},
   "outputs": [],
   "source": [
    "#9 stop spark\n",
    "SinaraSpark.stop_session()"
   ]
  },
  {
   "cell_type": "code",
   "execution_count": null,
   "id": "bb13dc6e-3806-4557-b2a8-9fc6098ebf7e",
   "metadata": {},
   "outputs": [],
   "source": []
  }
 ],
 "metadata": {
  "kernelspec": {
   "display_name": "cv",
   "language": "python",
   "name": "python3"
  },
  "language_info": {
   "codemirror_mode": {
    "name": "ipython",
    "version": 3
   },
   "file_extension": ".py",
   "mimetype": "text/x-python",
   "name": "python",
   "nbconvert_exporter": "python",
   "pygments_lexer": "ipython3",
   "version": "3.10.12"
  }
 },
 "nbformat": 4,
 "nbformat_minor": 5
}
